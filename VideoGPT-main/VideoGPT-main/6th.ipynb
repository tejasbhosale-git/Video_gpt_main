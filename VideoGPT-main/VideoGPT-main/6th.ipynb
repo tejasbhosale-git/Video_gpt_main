{
 "cells": [
  {
   "cell_type": "code",
   "execution_count": 5,
   "metadata": {},
   "outputs": [
    {
     "ename": "ImportError",
     "evalue": "cannot import name 'TimeSformerModel' from 'transformers' (/opt/anaconda3/lib/python3.11/site-packages/transformers/__init__.py)",
     "output_type": "error",
     "traceback": [
      "\u001b[0;31m---------------------------------------------------------------------------\u001b[0m",
      "\u001b[0;31mImportError\u001b[0m                               Traceback (most recent call last)",
      "\u001b[1;32m/Users/krisanusarkar/Documents/ML/videototext/6th.ipynb Cell 1\u001b[0m line \u001b[0;36m2\n\u001b[1;32m      <a href='vscode-notebook-cell:/Users/krisanusarkar/Documents/ML/videototext/6th.ipynb#W0sZmlsZQ%3D%3D?line=0'>1</a>\u001b[0m \u001b[39mimport\u001b[39;00m \u001b[39mtorch\u001b[39;00m\n\u001b[0;32m----> <a href='vscode-notebook-cell:/Users/krisanusarkar/Documents/ML/videototext/6th.ipynb#W0sZmlsZQ%3D%3D?line=1'>2</a>\u001b[0m \u001b[39mfrom\u001b[39;00m \u001b[39mtransformers\u001b[39;00m \u001b[39mimport\u001b[39;00m TimeSformerModel, TimeSformerConfig, BlipProcessor, BlipForConditionalGeneration\n\u001b[1;32m      <a href='vscode-notebook-cell:/Users/krisanusarkar/Documents/ML/videototext/6th.ipynb#W0sZmlsZQ%3D%3D?line=2'>3</a>\u001b[0m \u001b[39mimport\u001b[39;00m \u001b[39mcv2\u001b[39;00m\n\u001b[1;32m      <a href='vscode-notebook-cell:/Users/krisanusarkar/Documents/ML/videototext/6th.ipynb#W0sZmlsZQ%3D%3D?line=3'>4</a>\u001b[0m \u001b[39mimport\u001b[39;00m \u001b[39mnumpy\u001b[39;00m \u001b[39mas\u001b[39;00m \u001b[39mnp\u001b[39;00m\n",
      "\u001b[0;31mImportError\u001b[0m: cannot import name 'TimeSformerModel' from 'transformers' (/opt/anaconda3/lib/python3.11/site-packages/transformers/__init__.py)"
     ]
    }
   ],
   "source": [
    "import torch\n",
    "from transformers import TimeSformerModel, TimeSformerConfig, BlipProcessor, BlipForConditionalGeneration\n",
    "import cv2\n",
    "import numpy as np\n",
    "\n",
    "# Load the configuration and TimeSformer model\n",
    "config = TimeSformerConfig.from_pretrained(\"facebook/timesformer-base-finetuned-k400\")\n",
    "timesformer_model = TimeSformerModel.from_pretrained(\"facebook/timesformer-base-finetuned-k400\")\n",
    "timesformer_model.eval()\n",
    "\n",
    "# Load the BLIP model for caption generation\n",
    "processor = BlipProcessor.from_pretrained(\"Salesforce/blip2-flan-t5-xxl\")\n",
    "blip_model = BlipForConditionalGeneration.from_pretrained(\"Salesforce/blip2-flan-t5-xxl\")\n",
    "blip_model.eval()\n",
    "\n",
    "\n"
   ]
  },
  {
   "cell_type": "code",
   "execution_count": null,
   "metadata": {},
   "outputs": [],
   "source": [
    "def preprocess_video(video_path, num_frames=8, frame_size=224):\n",
    "    cap = cv2.VideoCapture(video_path)\n",
    "    frames = []\n",
    "    while True:\n",
    "        ret, frame = cap.read()\n",
    "        if not ret:\n",
    "            break\n",
    "        frame = cv2.resize(frame, (frame_size, frame_size))\n",
    "        frames.append(frame)\n",
    "    cap.release()\n",
    "    \n",
    "    sampled_frames = np.linspace(0, len(frames) - 1, num_frames, dtype=int)\n",
    "    frames = np.array([frames[i] for i in sampled_frames])\n",
    "    \n",
    "    frames = frames / 255.0\n",
    "    frames = frames.transpose(3, 0, 1, 2)\n",
    "    return torch.tensor(frames).unsqueeze(0).float()\n",
    "\n",
    "def generate_caption(video_tensor):\n",
    "    # Get embeddings from TimeSformer\n",
    "    with torch.no_grad():\n",
    "        video_embeddings = timesformer_model(video_tensor).last_hidden_state\n",
    "    \n",
    "    # Prepare embeddings for BLIP model\n",
    "    video_embeddings = video_embeddings.mean(dim=1)  # Mean pool over time dimension\n",
    "    inputs = processor(video_embeddings, return_tensors=\"pt\")\n",
    "    \n",
    "    # Generate caption using BLIP model\n",
    "    with torch.no_grad():\n",
    "        outputs = blip_model.generate(**inputs)\n",
    "    \n",
    "    # Decode the output to text\n",
    "    caption = processor.decode(outputs[0], skip_special_tokens=True)\n",
    "    return caption\n",
    "\n",
    "# Preprocess the video\n",
    "video_tensor = preprocess_video(\"medical1.mp4\")\n",
    "\n",
    "# Generate caption\n",
    "caption = generate_caption(video_tensor)\n",
    "print(caption)"
   ]
  }
 ],
 "metadata": {
  "kernelspec": {
   "display_name": "base",
   "language": "python",
   "name": "python3"
  },
  "language_info": {
   "codemirror_mode": {
    "name": "ipython",
    "version": 3
   },
   "file_extension": ".py",
   "mimetype": "text/x-python",
   "name": "python",
   "nbconvert_exporter": "python",
   "pygments_lexer": "ipython3",
   "version": "3.11.8"
  }
 },
 "nbformat": 4,
 "nbformat_minor": 2
}
